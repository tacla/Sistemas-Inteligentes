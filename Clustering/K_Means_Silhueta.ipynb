{
  "nbformat": 4,
  "nbformat_minor": 0,
  "metadata": {
    "colab": {
      "provenance": [],
      "authorship_tag": "ABX9TyMTgDZsp/e1pbCdijpX1hDf",
      "include_colab_link": true
    },
    "kernelspec": {
      "name": "python3",
      "display_name": "Python 3"
    },
    "language_info": {
      "name": "python"
    }
  },
  "cells": [
    {
      "cell_type": "markdown",
      "metadata": {
        "id": "view-in-github",
        "colab_type": "text"
      },
      "source": [
        "<a href=\"https://colab.research.google.com/github/tacla/Sistemas-Inteligentes/blob/main/Clustering/K_Means_Silhueta.ipynb\" target=\"_parent\"><img src=\"https://colab.research.google.com/assets/colab-badge.svg\" alt=\"Open In Colab\"/></a>"
      ]
    },
    {
      "cell_type": "markdown",
      "source": [
        "# MÉTODO DA SILHUETA: Em detalhes\n",
        "_Autor: Prof. Cesar Tacla, UTFPR_\n",
        "\n",
        "O método da silhueta é usado para avaliar a qualidade dos agrupamentos (clusters) obtidos em algoritmos de aprendizado não supervisionado, como o K-Means. Ele mede o quão bem os indivíduos estão agrupados em seus próprios clusters em comparação outros clusters.\n",
        "\n",
        "Vamos inicializar..."
      ],
      "metadata": {
        "id": "Hp9-3Gpnwj4U"
      }
    },
    {
      "cell_type": "code",
      "source": [
        "import numpy as np\n",
        "import matplotlib.pyplot as plt\n",
        "from sklearn.metrics import pairwise_distances\n",
        "from sklearn.cluster import KMeans\n",
        "import warnings\n",
        "\n",
        "# Ignorar warnings para não poluir\n",
        "warnings.filterwarnings(\"ignore\")\n",
        "\n",
        "# Estilo para as plotagens\n",
        "meu_estilo = {\n",
        "    'axes.facecolor': 'white',   # Background color\n",
        "    'axes.edgecolor': 'black',   # Border color\n",
        "    'axes.grid': True,           # Show grid\n",
        "    'grid.color': 'lightgrey',   # Grid color\n",
        "    'grid.linestyle': '-',       # Grid line style\n",
        "    'grid.linewidth': 0.5        # Grid line width\n",
        "}"
      ],
      "metadata": {
        "id": "xSxgK6hIf1y3"
      },
      "execution_count": 3,
      "outputs": []
    },
    {
      "cell_type": "markdown",
      "source": [
        "Vamos usar os mesmos dados do [tutorial anterior](https://)."
      ],
      "metadata": {
        "id": "oZtFan2nqtiR"
      }
    },
    {
      "cell_type": "code",
      "source": [
        "# Dados de exemplo: TEMPERATURA X UMIDADE\n",
        "temp = [35, 29, 32, 18, 6, 4, 0, 8, -3, 10, 9, 10, 26, 20]\n",
        "umid = [90, 78, 85, 87, 60, 55, 50, 89, 59, 30, 40, 69, 40, 70]\n",
        "\n",
        "# Criamos um array de pares (x, y) a partir das listas temp e umid\n",
        "# X é um nome usual para designar as entradas para um algoritmo de ML\n",
        "X = np.array(list(zip(temp, umid)))\n",
        "print(X)"
      ],
      "metadata": {
        "colab": {
          "base_uri": "https://localhost:8080/"
        },
        "id": "8PZOJL3qrMAX",
        "outputId": "bdacf85a-8f55-4082-b1e8-f81ceb25feae"
      },
      "execution_count": 4,
      "outputs": [
        {
          "output_type": "stream",
          "name": "stdout",
          "text": [
            "[[35 90]\n",
            " [29 78]\n",
            " [32 85]\n",
            " [18 87]\n",
            " [ 6 60]\n",
            " [ 4 55]\n",
            " [ 0 50]\n",
            " [ 8 89]\n",
            " [-3 59]\n",
            " [10 30]\n",
            " [ 9 40]\n",
            " [10 69]\n",
            " [26 40]\n",
            " [20 70]]\n"
          ]
        }
      ]
    },
    {
      "cell_type": "markdown",
      "source": [
        "Vamos rodar o KMeans. Primeiro, faremos a parametrização fixando o número de cluster."
      ],
      "metadata": {
        "id": "g9Nn0khirdkX"
      }
    },
    {
      "cell_type": "code",
      "source": [
        "# Parametros para o KMeans\n",
        "N_CLUSTERS = 5\n",
        "\n",
        "# random_state = 42 torna a execução determinística; se remover os centroides iniciais são randômicos\n",
        "kmeans = KMeans(n_clusters=N_CLUSTERS, random_state=42)\n",
        "labels = kmeans.fit_predict(X)        # Labels sao os indices que identificam o cluster ao qual cada individuo está associado\n",
        "                                      #  [1, 1, 1, 2, 1, ...] os 3 primeiros elementos sao do cluster 1, o seguinte é do 2, ...\n",
        "centroids = kmeans.cluster_centers_   # as coordenads dos centroides dos k clusters\n",
        "print(\"Centroids:\")\n",
        "print(centroids)"
      ],
      "metadata": {
        "colab": {
          "base_uri": "https://localhost:8080/"
        },
        "id": "ykBIrFfYrsEg",
        "outputId": "bb1bff32-bb93-4f7c-c430-fc55db76000d"
      },
      "execution_count": 5,
      "outputs": [
        {
          "output_type": "stream",
          "name": "stdout",
          "text": [
            "Centroids:\n",
            "[[ 1.75       56.        ]\n",
            " [32.         84.33333333]\n",
            " [15.         69.5       ]\n",
            " [15.         36.66666667]\n",
            " [13.         88.        ]]\n"
          ]
        }
      ]
    },
    {
      "cell_type": "markdown",
      "source": [
        "Vamos iniciar o cálculo dos coeficientes de silhueta. Em primeiro lugar, calculamos as distâncias quadráticas entre todos os pares de indivíduos."
      ],
      "metadata": {
        "id": "biCP9B7asiti"
      }
    },
    {
      "cell_type": "code",
      "source": [
        "n_amostras, n_caracteristicas = X.shape   # shape retorna o numero de linhas e de colunas de um array numpy\n",
        "n_clusters = len(np.unique(labels))       # número de clusters calculado pelo número de labels de clusters\n",
        "\n",
        "# Calcula as distâncias quadráticas entre os pontos de dados; pode-se utilizar outras distâncias\n",
        "# mas a quadrática evita o cálculo da raiz quadrada, economizando processamento\n",
        "dists = pairwise_distances(X, metric='sqeuclidean')"
      ],
      "metadata": {
        "id": "zrIy1kx1s1GX"
      },
      "execution_count": 8,
      "outputs": []
    },
    {
      "cell_type": "markdown",
      "source": [
        "Uma vez que temos as distâncias calculadas entre todos os pares de pontos, vamos ao cálculo de a(i), b(i), s(i) e da média dos s(i).\n",
        "\n",
        "# Elementos do cálculo:\n",
        "**Distância Intracluster do indivíduo i, a(i)**: para cada indivíduo, calcule a média das distâncias para todos os outros do mesmo cluster.\n",
        "\n",
        "**Distância Intercluster do indivíduo i, b(i)**: para cada indivíduo, calcule a menor média das distâncias para todos os indivíduos de outros clusters.\n",
        "\n",
        "**Coeficiente de Silhueta, s(i)**: para cada indivíduo i é dado por\n",
        "\\s(i) = \\frac{{b(i) - a(i)}}{{\\max(b(i), a(i))}}\\\n",
        "\n",
        "**Silhueta Média:** é a média dos coeficientes s(i)"
      ],
      "metadata": {
        "id": "xHH7XMiztQ5U"
      }
    },
    {
      "cell_type": "code",
      "source": [
        "# Inicializa arrays para armazenar os valores a e b para cada ponto de dados\n",
        "a = np.zeros(n_amostras)\n",
        "b = np.zeros(n_amostras)\n",
        "\n",
        "for i in range(n_amostras):\n",
        "    # Calcula a(i) - média das distâncias para outros pontos de dados no mesmo cluster\n",
        "    irmaos = dists[i, labels == labels[i]]\n",
        "    a[i] = np.sum(irmaos)/(len(irmaos) - 1)    ## media excetuando o proprio elemento\n",
        "\n",
        "    # Calcula b(i) - menor média das distâncias para pontos de dados em outros clusters\n",
        "    dist_media_min = float('inf')\n",
        "    for k in range(n_clusters):\n",
        "        if k != labels[i]:\n",
        "            # distancia media para todos os individuos do cluster k\n",
        "            dist_media = np.mean(dists[i, labels == k])\n",
        "            if dist_media < dist_media_min:\n",
        "                dist_media_min = dist_media\n",
        "    b[i] = dist_media_min # atribui a menor distancia media ao b(i)\n",
        "\n",
        "\n",
        "# Calcula os escores de silhueta para cada ponto de dados\n",
        "escores_silhueta = (b - a) / np.maximum(a, b)\n",
        "\n",
        "# Print os coeficientes individuais de silhueta\n",
        "print(f\"(Temp:, umid): a\\tb\\tsilhueta\")\n",
        "for i, txt in enumerate(X):\n",
        "    print(f\"({X[i, 0]}, {X[i, 1]}): a = {a[i]:.2f}\\tb = {b[i]:.2f}\\ts = {escores_silhueta[i]:.3f}\")\n",
        "\n",
        "# Calcula a silhueta média\n",
        "silhueta_media = np.mean(escores_silhueta)\n",
        "print(f\"\\nEscore de silhueta (média de todos indivíduos: {silhueta_media:.4f}\")"
      ],
      "metadata": {
        "colab": {
          "base_uri": "https://localhost:8080/"
        },
        "id": "3BJSxTZntpJo",
        "outputId": "3bdf4ed7-658c-4e8f-b4ec-677287be8f50"
      },
      "execution_count": 10,
      "outputs": [
        {
          "output_type": "stream",
          "name": "stdout",
          "text": [
            "(Temp:, umid): a\tb\tsilhueta\n",
            "(35, 90): a = 107.00\tb = 514.00\ts = 0.792\n",
            "(29, 78): a = 119.00\tb = 293.50\ts = 0.595\n",
            "(32, 85): a = 46.00\tb = 396.00\ts = 0.884\n",
            "(18, 87): a = 104.00\tb = 233.33\ts = 0.554\n",
            "(6, 60): a = 82.33\tb = 196.50\ts = 0.581\n",
            "(4, 55): a = 45.00\tb = 356.50\ts = 0.874\n",
            "(0, 50): a = 89.00\tb = 485.67\ts = 0.817\n",
            "(8, 89): a = 104.00\tb = 454.50\ts = 0.771\n",
            "(-3, 59): a = 79.00\tb = 459.50\ts = 0.828\n",
            "(10, 30): a = 228.50\tb = 771.75\ts = 0.704\n",
            "(9, 40): a = 195.00\tb = 336.25\ts = 0.420\n",
            "(10, 69): a = 101.00\tb = 264.75\ts = 0.619\n",
            "(26, 40): a = 322.50\tb = 871.75\ts = 0.630\n",
            "(20, 70): a = 101.00\tb = 379.67\ts = 0.734\n",
            "\n",
            "Escore de silhueta (média de todos indivíduos: 0.7001\n"
          ]
        }
      ]
    },
    {
      "cell_type": "markdown",
      "source": [
        "Agora, vamos plotar os resultados."
      ],
      "metadata": {
        "id": "GnfZUGkNvsZS"
      }
    },
    {
      "cell_type": "code",
      "source": [
        "# Plota os centroides dos clusters\n",
        "plt.style.use(meu_estilo)   # ggplot, bmh, classic\n",
        "str_centroids = ['C{}'.format(i+1) for i in range(np.unique(labels).shape[0])]\n",
        "plt.scatter(centroids[:, 0], centroids[:, 1], c=np.unique(labels), marker='x', cmap='tab10')\n",
        "\n",
        "for i, txt in enumerate(str_centroids):\n",
        "    plt.annotate(f\"{str_centroids [i]}\",\n",
        "                 (centroids[i, 0], centroids[i, 1]), textcoords=\"offset points\", xytext=(0, 5), ha='center')\n",
        "\n",
        "\n",
        "# Plota os pares (temp, umid) com cores diferentes em função do cluster ao qual estão associados\n",
        "plt.scatter(X[:, 0], X[:, 1], c=labels, cmap='tab10')\n",
        "\n",
        "for i, txt in enumerate(X):\n",
        "    plt.annotate(f\"{escores_silhueta[i]:.2f}\",\n",
        "                 (X[i, 0], X[i, 1]), textcoords=\"offset points\", xytext=(0, 5), ha='center')\n",
        "\n",
        "plt.xlabel(\"Temperatura (°C)\")\n",
        "plt.ylabel(\"Umidade (%)\")\n",
        "plt.title(\"Clusters e coef. de silhueta por indivíduo\")\n",
        "plt.show()"
      ],
      "metadata": {
        "colab": {
          "base_uri": "https://localhost:8080/",
          "height": 472
        },
        "id": "tC3VBAi8vxvL",
        "outputId": "f75ed5f4-3550-470a-917d-934899021765"
      },
      "execution_count": 11,
      "outputs": [
        {
          "output_type": "display_data",
          "data": {
            "text/plain": [
              "<Figure size 640x480 with 1 Axes>"
            ],
            "image/png": "[encoded data removed]"
          },
          "metadata": {}
        }
      ]
    },
    {
      "cell_type": "markdown",
      "source": [
        "Observe que todos os indivíduos tem silhueta > 0.5 indicando que a clusterização está muito boa.\n",
        "\n",
        "Exceção para o ponto (9, 40), pela sua proximidade aos indivíduos do cluster C1.\n",
        "\n",
        "*Interessante mudar o número de cluster e ver como isso se reflete nos coeficientes de silhueta.*"
      ],
      "metadata": {
        "id": "IBWQD7_Zv_Q4"
      }
    }
  ]
}